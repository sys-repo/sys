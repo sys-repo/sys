{
 "cells": [
  {
   "cell_type": "code",
   "execution_count": 1,
   "id": "f7aeff56",
   "metadata": {},
   "outputs": [],
   "source": [
    "import { z } from 'zod';\n",
    "import { StructuredOutputParser } from '@langchain/core/output_parsers';\n",
    "import { ChatPromptTemplate } from '@langchain/core/prompts';\n",
    "import { RunnableSequence } from '@langchain/core/runnables';\n",
    "import { ChatOllama } from '@langchain/ollama';\n",
    "\n",
    "export const zodSchema = z.object({\n",
    "  answer: z.string().describe(`answer to the user's question`),\n",
    "  source: z.string().describe(`website used to answer the user question.`),\n",
    "});\n",
    "\n",
    "const model = new ChatOllama({ model: 'deepseek-r1:7b' });\n",
    "const parser = StructuredOutputParser.fromZodSchema(zodSchema);\n",
    "\n",
    "const chain = RunnableSequence.from([\n",
    "  ChatPromptTemplate.fromTemplate(\n",
    "    'Answer the users question as best as possible.\\n' + '{format_instructions}\\n{question}',\n",
    "  ),\n",
    "  model,\n",
    "  parser,\n",
    "]);\n"
   ]
  },
  {
   "cell_type": "code",
   "execution_count": null,
   "id": "74bb9ef6",
   "metadata": {},
   "outputs": [],
   "source": []
  }
 ],
 "metadata": {
  "kernelspec": {
   "display_name": "Deno",
   "language": "typescript",
   "name": "deno"
  },
  "language_info": {
   "codemirror_mode": "typescript",
   "file_extension": ".ts",
   "mimetype": "text/x.typescript",
   "name": "typescript",
   "nbconvert_exporter": "script",
   "pygments_lexer": "typescript",
   "version": "5.8.3"
  }
 },
 "nbformat": 4,
 "nbformat_minor": 5
}
